{
 "cells": [
  {
   "cell_type": "code",
   "execution_count": 1,
   "id": "5f9a0ed8",
   "metadata": {},
   "outputs": [],
   "source": [
    "import numpy as np\n",
    "import pandas as pd\n",
    "import matplotlib.pyplot as plt\n",
    "import random\n",
    "import time"
   ]
  },
  {
   "cell_type": "markdown",
   "id": "b7d32e01",
   "metadata": {},
   "source": [
    "---\n",
    "### Q1) How many multiplications and additions do you need to perform a matrix multiplication between a (n, k) and (k, m) matrix? Explain."
   ]
  },
  {
   "cell_type": "markdown",
   "id": "c24cbe28",
   "metadata": {},
   "source": [
    "**Sol**: Let the final matrix be r, and the given matrices be a(n, k) and b(k, m).<br />\n",
    "    We know that, $$ r[i, j] = \\sum_{x = 1}^{k} a[i, x] \\times b[x, j]$$\n",
    "    $$\\implies multiplications = n \\times m \\times k $$   \n",
    "    $$\\implies additions = n \\times m \\times (k - 1) $$"
   ]
  },
  {
   "cell_type": "markdown",
   "id": "1df554db",
   "metadata": {},
   "source": [
    "---\n",
    "### **Q2)** Write Python code to multiply the above two matrices. Solve using list of lists and then use numpy. Compare the timing of both solutions. Which one is faster? Why?"
   ]
  },
  {
   "cell_type": "code",
   "execution_count": 2,
   "id": "f3fc8bb0",
   "metadata": {},
   "outputs": [],
   "source": [
    "# Creating matrices as lists of lists n = 100, k = 100, m = 100\n",
    "a = [[0] * 100] * 300\n",
    "b = [[0] * 300] * 100\n",
    "\n",
    "# also creating the result matrix\n",
    "r = [[0] * 100] * 100\n",
    "\n",
    "# Populating a and b with random numbers\n",
    "for i in range(100):\n",
    "    for j in range(300):\n",
    "        a[j][i] = random.randint(1, 1000)\n",
    "        b[i][j] = random.randint(1, 1000)"
   ]
  },
  {
   "cell_type": "code",
   "execution_count": 3,
   "id": "3918ff6e",
   "metadata": {},
   "outputs": [
    {
     "name": "stdout",
     "output_type": "stream",
     "text": [
      "Mean: 0.5202807998657226 s\n",
      "SD: 0.018784372510290623\n"
     ]
    }
   ],
   "source": [
    "tracker = np.array([0, 0], dtype = np.float64)\n",
    "for x in range(100):\n",
    "    t1 = time.time()\n",
    "    # Multiplying using three for loops\n",
    "    for i in range(100):\n",
    "        for j in range(100):\n",
    "            for k in range(300):\n",
    "                r[i][j] += a[k][i] * b[j][k]\n",
    "    t2 = time.time()\n",
    "    tracker[0] += t2 - t1\n",
    "    tracker[1] += (t2 - t1) ** 2\n",
    "\n",
    "tracker /= 100\n",
    "tracker[1] = (tracker[1] - tracker[0] ** 2)**(0.5)\n",
    "print(f\"Mean: {tracker[0]} s\")\n",
    "print(f\"SD: {tracker[1]}\")"
   ]
  },
  {
   "cell_type": "code",
   "execution_count": 4,
   "id": "cb0bb428",
   "metadata": {},
   "outputs": [],
   "source": [
    "# Creating numpy arrays\n",
    "a_np = np.array(a)\n",
    "b_np = np.array(b)\n",
    "r_np = np.zeros((100,100))"
   ]
  },
  {
   "cell_type": "code",
   "execution_count": 5,
   "id": "295b4d33",
   "metadata": {
    "scrolled": true
   },
   "outputs": [
    {
     "name": "stdout",
     "output_type": "stream",
     "text": [
      "Mean: 0.0052210259437561034 s\n",
      "SD: 0.00024107447076234022\n"
     ]
    }
   ],
   "source": [
    "tracker = np.array([0, 0], dtype = np.float64)\n",
    "for i in range(100):\n",
    "    t1 = time.time()\n",
    "    # Using matmul function in numpy\n",
    "    r_np = np.matmul(a_np, b_np)\n",
    "    t2 = time.time()\n",
    "    tracker[0] += t2 - t1\n",
    "    tracker[1] += (t2 - t1) ** 2\n",
    "\n",
    "tracker /= 100\n",
    "tracker[1] = (tracker[1] - tracker[0] ** 2)**(0.5)\n",
    "print(f\"Mean: {tracker[0]} s\")\n",
    "print(f\"SD: {tracker[1]}\")"
   ]
  },
  {
   "cell_type": "markdown",
   "id": "04ea87ee",
   "metadata": {},
   "source": [
    "1. Since numpy arrays are arrays declared statically as opposed to dynamic typing, the data structure of the each element of the array will be int64 and there would be no additional members for managing the data type unlike python data types(int). As a result there would be a reduction in the amount of overhead for accessing and modifying each element of the array.\n",
    "2. Additionally the matmul function in python makes use of the BLAS library which has implementations that can reduce the time complexity from $ n ^ {3} $ to $ n ^ {2.32}$.\n",
    "3. Numpy also makes use SIMD Vector Processing unit for greater parallel processing to increase the speed of computation.\n",
    "4. Elements of list are not necessarily contiguous whereas the numpy array elements are contiguous, as a result due to spacial locality cache utilization is higher."
   ]
  },
  {
   "cell_type": "markdown",
   "id": "ecea5e6f",
   "metadata": {},
   "source": [
    "---\n",
    "### Q3) Finding the highest element in a list requires one pass of the array. Finding the second highest element requires 2 passes of the the array. Using this method, what is the time complexity of finding the median of the array? Can you suggest a better method? Can you implement both these methods in Python and compare against numpy.median routine in terms of time?"
   ]
  },
  {
   "cell_type": "markdown",
   "id": "8d443d65",
   "metadata": {},
   "source": [
    "**Sol:** \n",
    "Clearly the we need to find the ith highest element by performing $i$ passes, and for each pass\n",
    "$$ T(n) = O(n)$$ \n",
    "To find the median we need to find the $ n/2 ^{th} $ highest element in the array\n",
    "$$ \\implies T(n) = O(n \\times n/2) $$\n",
    "$$ \\implies T(n) = O(n^{2}) $$\n",
    "<br />\n",
    "We can improve the algorithm by using divide and conquer method or sorting method to achieve a time complexity of $O(n \\times log(n))$"
   ]
  },
  {
   "cell_type": "code",
   "execution_count": 6,
   "id": "25d29630",
   "metadata": {
    "scrolled": true
   },
   "outputs": [
    {
     "name": "stdout",
     "output_type": "stream",
     "text": [
      "My Median: 75\n",
      "np median: 75.0\n"
     ]
    }
   ],
   "source": [
    "# Defining the given method\n",
    "def given_method(arr):\n",
    "    mx = 0\n",
    "    temp = arr.copy()\n",
    "    n = arr.shape[0]\n",
    "    for i in range(n//2):\n",
    "        mx = np.max(temp)\n",
    "        temp = np.delete(temp, temp.argmax())\n",
    "    if (n%2 == 0):\n",
    "        return (temp.max() + mx)/2\n",
    "    else:\n",
    "        return temp.max()\n",
    "\n",
    "# Testing the given method\n",
    "arr = np.random.randint(0, 100, 9)\n",
    "print(\"My Median:\", given_method(arr))\n",
    "print(\"np median:\", np.median(arr))"
   ]
  },
  {
   "cell_type": "code",
   "execution_count": 7,
   "id": "46d3fbbf",
   "metadata": {},
   "outputs": [
    {
     "name": "stdout",
     "output_type": "stream",
     "text": [
      "My Median: 69\n",
      "np median: 69.0\n"
     ]
    }
   ],
   "source": [
    "# Defining the better method\n",
    "def better_method(arr):\n",
    "    n = arr.shape[0]\n",
    "    temp = np.sort(arr)\n",
    "    if (n%2 == 0):\n",
    "        return temp[(n-1)//2] + temp[n//2]\n",
    "    else:\n",
    "        return temp[(n)//2]\n",
    "\n",
    "# Testing the given method\n",
    "arr = np.random.randint(0, 100, 9)\n",
    "print(\"My Median:\", better_method(arr))\n",
    "print(\"np median:\", np.median(arr))"
   ]
  },
  {
   "cell_type": "code",
   "execution_count": 8,
   "id": "19c8549e",
   "metadata": {},
   "outputs": [],
   "source": [
    "# checking for multiple values of n\n",
    "np_med = []\n",
    "giv_med = []\n",
    "bet_med = []\n",
    "for n in range(10, 1100, 10):\n",
    "    np_med.append([0, 0]) # least, mean, highest\n",
    "    giv_med.append([0, 0])\n",
    "    bet_med.append([0, 0])\n",
    "    # Running for multiple iterations\n",
    "    for j in range(100):\n",
    "        # Defining the array\n",
    "        arr = np.random.randint(0, 1000, (n))\n",
    "        t1 = time.time()\n",
    "        given_method(arr)\n",
    "        t2 = time.time()\n",
    "        giv_med[-1][1] += ((t2 - t1) ** 2)\n",
    "        giv_med[-1][0] += t2 - t1\n",
    "        t1 = time.time()\n",
    "        better_method(arr)\n",
    "        t2 = time.time()\n",
    "        bet_med[-1][1] += ((t2 - t1) ** 2)\n",
    "        bet_med[-1][0] += t2 - t1\n",
    "        t1 = time.time()\n",
    "        np.median(arr)\n",
    "        t2 = time.time()\n",
    "        np_med[-1][1] += ((t2 - t1) ** 2)\n",
    "        np_med[-1][0] += t2 - t1\n",
    "\n",
    "# Calculating the mean and the STD of the time taken for each n\n",
    "np_med = np.array(np_med)/100\n",
    "giv_med = np.array(giv_med)/100\n",
    "bet_med = np.array(bet_med)/100\n",
    "np_med[:, 1] = np.sqrt(np_med[:, 1] - np.square(np_med[:, 0]))\n",
    "giv_med[:, 1] = np.sqrt(giv_med[:, 1] - np.square(giv_med[:, 0]))\n",
    "bet_med[:, 1] = np.sqrt(bet_med[:, 1] - np.square(bet_med[:, 0]))"
   ]
  },
  {
   "cell_type": "code",
   "execution_count": 9,
   "id": "a5b56e5e",
   "metadata": {},
   "outputs": [
    {
     "data": {
      "image/png": "[encoded data removed]",
      "text/plain": [
       "<Figure size 640x480 with 1 Axes>"
      ]
     },
     "metadata": {},
     "output_type": "display_data"
    }
   ],
   "source": [
    "# Plotting the results\n",
    "import matplotlib.pyplot as plt\n",
    "plt.title(\"T(n)\")\n",
    "plt.ylabel(\"Time(log(s))\")\n",
    "plt.xlabel(\"n\")\n",
    "plt.yscale('log')\n",
    "plt.plot(np.arange(10, 1100, 10), giv_med[:, 0] + giv_med[:,1],  color=\"blue\", linewidth=0.2)\n",
    "plt.plot(np.arange(10, 1100, 10), giv_med[:, 0], color=\"blue\", linewidth=1, label=\"given method\")\n",
    "plt.plot(np.arange(10, 1100, 10), giv_med[:, 0] - giv_med[:, 1], color=\"blue\", linewidth=0.2)\n",
    "plt.plot(np.arange(10, 1100, 10), bet_med[:, 0] + bet_med[:,1],  color=\"green\", linewidth=0.2)\n",
    "plt.plot(np.arange(10, 1100, 10), bet_med[:, 0], color=\"green\", linewidth=1, label=\"better method\")\n",
    "plt.plot(np.arange(10, 1100, 10), bet_med[:, 0] - bet_med[:, 1], color=\"green\", linewidth=0.2)\n",
    "plt.plot(np.arange(10, 1100, 10), np_med[:, 0] + np_med[:, 1],  color=\"red\", linewidth=0.2)\n",
    "plt.plot(np.arange(10, 1100, 10), np_med[:, 0], color=\"red\", linewidth=1, label=\"np.median method\")\n",
    "plt.plot(np.arange(10, 1100, 10), np_med[:, 0] - np_med[:, 1], color=\"red\", linewidth=0.2)\n",
    "plt.legend()\n",
    "plt.show()"
   ]
  },
  {
   "cell_type": "markdown",
   "id": "97a536d3",
   "metadata": {},
   "source": [
    "Clearly the rate of increase of time taken with size of the array is greater for both the algorithms using the given method and using sorting.\n",
    "<br />\n",
    "The standard deviation of time taken for the given method is less because it does not depend on the relative ordering of elements"
   ]
  },
  {
   "cell_type": "markdown",
   "id": "7264f5f8",
   "metadata": {},
   "source": [
    "---\n",
    "### Q4) What is the gradient of the following function with respect to x and y?\n",
    " $$ f(x, y) = x ^ {2} y + y ^ {3} sin(x)$$"
   ]
  },
  {
   "cell_type": "markdown",
   "id": "fb99aee3",
   "metadata": {},
   "source": [
    "**Sol:** $$ \\frac{df}{dx} = 2xy + y ^{3}cos(x)  $$  \n",
    "$$ \\frac{df}{dy} = x ^ {2} + 3y ^{2}sin(x) $$"
   ]
  },
  {
   "cell_type": "markdown",
   "id": "ea70001b",
   "metadata": {},
   "source": [
    "---\n",
    "### Q5) Use JAX to confirm the gradient evaluated by your method matches the analytical solution corresponding to a few random values of x and y"
   ]
  },
  {
   "cell_type": "code",
   "execution_count": 10,
   "id": "72a33a9d",
   "metadata": {},
   "outputs": [],
   "source": [
    "import jax\n",
    "from jax import grad\n",
    "import jax.numpy as jnp"
   ]
  },
  {
   "cell_type": "code",
   "execution_count": 11,
   "id": "7f240218",
   "metadata": {},
   "outputs": [],
   "source": [
    "grad??"
   ]
  },
  {
   "cell_type": "code",
   "execution_count": 12,
   "id": "9c5aeda4",
   "metadata": {},
   "outputs": [
    {
     "name": "stderr",
     "output_type": "stream",
     "text": [
      "WARNING:jax._src.lib.xla_bridge:No GPU/TPU found, falling back to CPU. (Set TF_CPP_MIN_LOG_LEVEL=0 and rerun for more info.)\n"
     ]
    },
    {
     "name": "stdout",
     "output_type": "stream",
     "text": [
      "WRT(x) jax : 0.13 my-function:  0.13 || WRT(y) jax : 0.49 my-function:  0.49\n",
      "WRT(x) jax : 0.68 my-function:  0.68 || WRT(y) jax : 0.46 my-function:  0.46\n",
      "WRT(x) jax : 0.24 my-function:  0.24 || WRT(y) jax : 0.17 my-function:  0.17\n",
      "WRT(x) jax : 0.29 my-function:  0.29 || WRT(y) jax : 0.33 my-function:  0.33\n"
     ]
    }
   ],
   "source": [
    "# Declaring the function(for use with jax)\n",
    "def f(x, y):\n",
    "    return (x ** 2) * y + (y ** 3) * jnp.sin(x)\n",
    "\n",
    "# Declaration of the gradient functions(analytical)\n",
    "def dfdx(x, y):\n",
    "    return 2 * x * y + (y ** 3) * np.cos(x)\n",
    "def dfdy(x, y):\n",
    "    return x ** 2 + 3 * (y ** 2) * np.sin(x)\n",
    "\n",
    "for i in range(4):\n",
    "    X, Y = random.random(), random.random()\n",
    "    print(f\"WRT(x) jax :\", (\"%.2f\" % grad(f, 0)(X , Y)), \"my-function: \", \"%.2f\"%dfdx(X, Y), end=' || ')\n",
    "    print(f\"WRT(y) jax :\", (\"%.2f\" % grad(f, 1)(X , Y)), \"my-function: \", \"%.2f\"%dfdy(X, Y))\n",
    "    "
   ]
  },
  {
   "cell_type": "markdown",
   "id": "cf0052c4",
   "metadata": {},
   "source": [
    "---\n",
    "### Q6) Use sympy to confirm that you obtain the same gradient analytically."
   ]
  },
  {
   "cell_type": "code",
   "execution_count": 13,
   "id": "ca0b71b5",
   "metadata": {},
   "outputs": [],
   "source": [
    "import sympy\n",
    "from sympy import symbols\n",
    "from sympy.vector import gradient"
   ]
  },
  {
   "cell_type": "code",
   "execution_count": 14,
   "id": "d9c1bf9b",
   "metadata": {},
   "outputs": [],
   "source": [
    "# Declaring symbols\n",
    "x, y = symbols('x y')\n",
    "# Decalring the function\n",
    "f = x * x * y + y * y * y*sympy.sin(x)"
   ]
  },
  {
   "cell_type": "code",
   "execution_count": 15,
   "id": "8a2c41fe",
   "metadata": {},
   "outputs": [
    {
     "data": {
      "text/latex": [
       "$\\displaystyle 2 x y + y^{3} \\cos{\\left(x \\right)}$"
      ],
      "text/plain": [
       "2*x*y + y**3*cos(x)"
      ]
     },
     "execution_count": 15,
     "metadata": {},
     "output_type": "execute_result"
    }
   ],
   "source": [
    "f.diff(x) # Differentiation wrt x"
   ]
  },
  {
   "cell_type": "code",
   "execution_count": 16,
   "id": "28937ceb",
   "metadata": {},
   "outputs": [
    {
     "data": {
      "text/latex": [
       "$\\displaystyle x^{2} + 3 y^{2} \\sin{\\left(x \\right)}$"
      ],
      "text/plain": [
       "x**2 + 3*y**2*sin(x)"
      ]
     },
     "execution_count": 16,
     "metadata": {},
     "output_type": "execute_result"
    }
   ],
   "source": [
    "f.diff(y) # Diffenciation wrt to y"
   ]
  },
  {
   "cell_type": "markdown",
   "id": "cd4d3d25",
   "metadata": {},
   "source": [
    "---\n",
    "### Q7) Create a Python nested dictionary to represent hierarchical information. We want to store record of students and their marks. Something like:\n",
    "\n",
    "1. 2022\n",
    "    1. Branch 1\n",
    "        1. Roll Number: 1, Name: N, Marks:\n",
    "            1. Maths: 100, English: 70 …\n",
    "    2. Branch 2\n",
    "2. 2023\n",
    "    1. Branch 1\n",
    "    2. Branch 2\n",
    "3. 2024\n",
    "    1. Branch 1\n",
    "    2. Branch 2\n",
    "4. 2025\n",
    "    1. Branch 1\n",
    "    2. Branch 2\n"
   ]
  },
  {
   "cell_type": "code",
   "execution_count": 17,
   "id": "1186b40f",
   "metadata": {},
   "outputs": [],
   "source": [
    "database = {\n",
    "    \"2022\" : {\n",
    "    \"Branch 1\":{\n",
    "        1:{\n",
    "            \"Roll Number\": 20110224,\n",
    "            \"Name\": \"Venkata Sriman\", \n",
    "            \"Marks\":{\n",
    "                \"Maths\": 10, \n",
    "                \"Physics\": 8,\n",
    "            },\n",
    "        },\n",
    "    },\n",
    "    \"Branch 2\":{\n",
    "        \n",
    "    }\n",
    "},\n",
    "2023:{\n",
    "    \"Branch 1\":{\n",
    "        \n",
    "    },\n",
    "    \"Branch 2\":{\n",
    "        \n",
    "    }\n",
    "},\n",
    "2024:{\n",
    "    \"Branch 1\":{\n",
    "        \n",
    "    },\n",
    "    \"Branch 2\":{\n",
    "        \n",
    "    }\n",
    "},\n",
    "2025:{\n",
    "    \"Branch 1\":{\n",
    "        \n",
    "    },\n",
    "    \"Branch 2\":{\n",
    "        \n",
    "    }\n",
    "},}"
   ]
  },
  {
   "cell_type": "markdown",
   "id": "66bb4da8",
   "metadata": {},
   "source": [
    "----\n",
    "### Q8) Store the same information using Python classes. We have an overall database which is a list of year objects. Each year contains a list of branches. Each branch contains a list of students. Each student has some properties like name, roll number and has marks in some subjects."
   ]
  },
  {
   "cell_type": "code",
   "execution_count": 18,
   "id": "eb6809ca",
   "metadata": {},
   "outputs": [],
   "source": [
    "# Creating the student class\n",
    "class Student:\n",
    "    ''' Class of students '''\n",
    "    def __init__(self, name, roll_no, marks = dict()):\n",
    "        ''' Students(name, roll_no, marks = {})\n",
    "            name : String,\n",
    "            roll_no : Int,\n",
    "            marks : Dictionary\n",
    "        '''\n",
    "        self.name = name\n",
    "        self.roll_no = roll_no\n",
    "        self.marks = marks.copy()\n",
    "    def add_marks(self, subject, marks):\n",
    "        ''' Add marks to the marks dictionary\n",
    "            add_marks(subject, marks)\n",
    "            subject : String,\n",
    "            marks : float\n",
    "        '''\n",
    "        self.marks[subject] = marks\n",
    "    def __repr__(self):\n",
    "        return f\"Name: {self.name}, Roll No: {self.roll_no}, Marks: {self.marks}\"\n",
    "        "
   ]
  },
  {
   "cell_type": "code",
   "execution_count": 19,
   "id": "a361a64a",
   "metadata": {},
   "outputs": [],
   "source": [
    "# Creating the branch class\n",
    "class Branch:\n",
    "    ''' Branch class '''\n",
    "    def __init__(self, name, students = list()):\n",
    "        ''' \n",
    "        Branch(name, students = [])\n",
    "        name : String,\n",
    "        students = List(Student)\n",
    "        '''\n",
    "        self.name = name\n",
    "        self.students = students.copy()\n",
    "    def add_student(self, student):\n",
    "        '''\n",
    "        add_student(student)\n",
    "        student: Student\n",
    "        '''\n",
    "        self.students.append(student)\n",
    "    def __repr__(self):\n",
    "        rep = self.name\n",
    "        rep += \":\"\n",
    "        for i in range(len(self.students)):\n",
    "            rep += f'\\n\\t\\t{i + 1}. '\n",
    "            rep += self.students[i].__repr__()\n",
    "        return rep"
   ]
  },
  {
   "cell_type": "code",
   "execution_count": 20,
   "id": "18f9339e",
   "metadata": {},
   "outputs": [],
   "source": [
    "# Creating the year class\n",
    "class Year:\n",
    "    ''' Year class'''\n",
    "    def __init__(self, year, branches = list()):\n",
    "        ''' \n",
    "        Year(year, branches = [])\n",
    "        year : Int,\n",
    "        branches : List(Branch)\n",
    "        '''\n",
    "        self.year = year\n",
    "        self.branches = branches.copy()\n",
    "    def add_branch(self, branch):\n",
    "        '''\n",
    "        add_branch(branch)\n",
    "        branch : Branch\n",
    "        '''\n",
    "        self.branches.append(branch)\n",
    "    def __repr__(self):\n",
    "        rep = str(self.year)\n",
    "        rep += \":\"\n",
    "        for i in range(len(self.branches)):\n",
    "            rep += f'\\n\\t{i + 1}. '\n",
    "            rep += self.branches[i].__repr__()\n",
    "        return rep"
   ]
  },
  {
   "cell_type": "code",
   "execution_count": 21,
   "id": "b77b3cbd",
   "metadata": {},
   "outputs": [],
   "source": [
    "years = [Year(2022, [Branch(\"Branch 1\"), Branch(\"Branch 2\")]), Year(2023, [Branch(\"Branch 1\"), Branch(\"Branch 2\")]), Year(2024, [Branch(\"Branch 1\"), Branch(\"Branch 2\")]), Year(2025, [Branch(\"Branch 1\"), Branch(\"Branch 2\")])]\n",
    "# Adding Student to branch-1 of year-1\n",
    "years[0].branches[0].add_student(Student(\"Venkata Sriman\", 20110224, {\"Maths\" : 9}))"
   ]
  },
  {
   "cell_type": "code",
   "execution_count": 22,
   "id": "f3260467",
   "metadata": {},
   "outputs": [
    {
     "name": "stdout",
     "output_type": "stream",
     "text": [
      "1.  2022:\n",
      "\t1. Branch 1:\n",
      "\t\t1. Name: Venkata Sriman, Roll No: 20110224, Marks: {'Maths': 9}\n",
      "\t2. Branch 2:\n",
      "2.  2023:\n",
      "\t1. Branch 1:\n",
      "\t2. Branch 2:\n",
      "3.  2024:\n",
      "\t1. Branch 1:\n",
      "\t2. Branch 2:\n",
      "4.  2025:\n",
      "\t1. Branch 1:\n",
      "\t2. Branch 2:\n"
     ]
    }
   ],
   "source": [
    "# Visualizing the data\n",
    "for i in range(len(years)):\n",
    "    print(f\"{i+1}. \", years[i])"
   ]
  },
  {
   "cell_type": "markdown",
   "id": "461a77f9",
   "metadata": {},
   "source": [
    "---\n",
    "### Q9) Using matplotlib plot the following functions on the domain: x = 0.5 to 100.0 in steps of 0.5."
   ]
  },
  {
   "cell_type": "code",
   "execution_count": 23,
   "id": "05e0de2d",
   "metadata": {},
   "outputs": [
    {
     "data": {
      "image/png": "[encoded data removed]",
      "text/plain": [
       "<Figure size 640x480 with 1 Axes>"
      ]
     },
     "metadata": {},
     "output_type": "display_data"
    }
   ],
   "source": [
    "x = np.arange(0.5, 100.5, .5)\n",
    "plt.title(\"f(x) = $x$\")\n",
    "plt.ylabel(\"y\")\n",
    "plt.xlabel(\"x\")\n",
    "plt.plot(x, x)\n",
    "plt.show()"
   ]
  },
  {
   "cell_type": "code",
   "execution_count": 24,
   "id": "b83046b2",
   "metadata": {},
   "outputs": [
    {
     "data": {
      "image/png": "[encoded data removed]",
      "text/plain": [
       "<Figure size 640x480 with 1 Axes>"
      ]
     },
     "metadata": {},
     "output_type": "display_data"
    }
   ],
   "source": [
    "plt.title(\"$f(x) = x^{2}$\")\n",
    "plt.ylabel(\"y\")\n",
    "plt.xlabel(\"x\")\n",
    "plt.plot(x, np.square(x))\n",
    "plt.show()"
   ]
  },
  {
   "cell_type": "code",
   "execution_count": 25,
   "id": "00ae4077",
   "metadata": {},
   "outputs": [
    {
     "data": {
      "image/png": "[encoded data removed]",
      "text/plain": [
       "<Figure size 640x480 with 1 Axes>"
      ]
     },
     "metadata": {},
     "output_type": "display_data"
    }
   ],
   "source": [
    "plt.title(r\"$f(x) = \\frac{x^{3}}{100}$\")\n",
    "plt.ylabel(\"y\")\n",
    "plt.xlabel(\"x\")\n",
    "plt.plot(x, np.power(x, 3)/100)\n",
    "plt.show()"
   ]
  },
  {
   "cell_type": "code",
   "execution_count": 26,
   "id": "b407ba14",
   "metadata": {},
   "outputs": [
    {
     "data": {
      "image/png": "[encoded data removed]",
      "text/plain": [
       "<Figure size 640x480 with 1 Axes>"
      ]
     },
     "metadata": {},
     "output_type": "display_data"
    }
   ],
   "source": [
    "plt.title(\"f(x) = $sin(x)$\")\n",
    "plt.ylabel(\"y\")\n",
    "plt.xlabel(\"x\")\n",
    "plt.plot(x, np.sin(x))\n",
    "plt.show()"
   ]
  },
  {
   "cell_type": "code",
   "execution_count": 27,
   "id": "13ef47d2",
   "metadata": {},
   "outputs": [
    {
     "data": {
      "image/png": "[encoded data removed]",
      "text/plain": [
       "<Figure size 640x480 with 1 Axes>"
      ]
     },
     "metadata": {},
     "output_type": "display_data"
    }
   ],
   "source": [
    "plt.title(r\"$f(x) = \\frac{sin(x)}{x}$\")\n",
    "plt.ylabel(\"y\")\n",
    "plt.xlabel(\"x\")\n",
    "plt.plot(x, np.sin(x)/x)\n",
    "plt.show()"
   ]
  },
  {
   "cell_type": "code",
   "execution_count": 28,
   "id": "3a4d38d9",
   "metadata": {},
   "outputs": [
    {
     "data": {
      "image/png": "[encoded data removed]",
      "text/plain": [
       "<Figure size 640x480 with 1 Axes>"
      ]
     },
     "metadata": {},
     "output_type": "display_data"
    }
   ],
   "source": [
    "plt.title(r\"$f(x) = log(x)$\")\n",
    "plt.ylabel(\"y\")\n",
    "plt.xlabel(\"x\")\n",
    "plt.plot(x, np.log(x))\n",
    "plt.show()"
   ]
  },
  {
   "cell_type": "code",
   "execution_count": 29,
   "id": "4fffdffc",
   "metadata": {},
   "outputs": [
    {
     "data": {
      "image/png": "[encoded data removed]",
      "text/plain": [
       "<Figure size 640x480 with 1 Axes>"
      ]
     },
     "metadata": {},
     "output_type": "display_data"
    }
   ],
   "source": [
    "plt.title(r\"$f(x) = e^{x}$\")\n",
    "plt.ylabel(\"y\")\n",
    "plt.xlabel(\"x\")\n",
    "plt.plot(x, np.exp(x))\n",
    "plt.show()"
   ]
  },
  {
   "cell_type": "markdown",
   "id": "cb908488",
   "metadata": {},
   "source": [
    "### Q10) Using numpy generate a matrix of size 20X5 containing random numbers drawn uniformly from the range of 1 to 2. Using Pandas create a dataframe out of this matrix. Name the columns of the dataframe as “a”, “b”, “c”, “d”, “e”. Find the column with the highest standard deviation. Find the row with the lowest mean."
   ]
  },
  {
   "cell_type": "code",
   "execution_count": 30,
   "id": "d1cc7726",
   "metadata": {},
   "outputs": [
    {
     "data": {
      "text/html": [
       "<div>\n",
       "<style scoped>\n",
       "    .dataframe tbody tr th:only-of-type {\n",
       "        vertical-align: middle;\n",
       "    }\n",
       "\n",
       "    .dataframe tbody tr th {\n",
       "        vertical-align: top;\n",
       "    }\n",
       "\n",
       "    .dataframe thead th {\n",
       "        text-align: right;\n",
       "    }\n",
       "</style>\n",
       "<table border=\"1\" class=\"dataframe\">\n",
       "  <thead>\n",
       "    <tr style=\"text-align: right;\">\n",
       "      <th></th>\n",
       "      <th>a</th>\n",
       "      <th>b</th>\n",
       "      <th>c</th>\n",
       "      <th>d</th>\n",
       "      <th>e</th>\n",
       "    </tr>\n",
       "  </thead>\n",
       "  <tbody>\n",
       "    <tr>\n",
       "      <th>0</th>\n",
       "      <td>1.818370</td>\n",
       "      <td>1.247481</td>\n",
       "      <td>1.802545</td>\n",
       "      <td>1.473576</td>\n",
       "      <td>1.812560</td>\n",
       "    </tr>\n",
       "    <tr>\n",
       "      <th>1</th>\n",
       "      <td>1.536296</td>\n",
       "      <td>1.220849</td>\n",
       "      <td>1.096129</td>\n",
       "      <td>1.373259</td>\n",
       "      <td>1.108820</td>\n",
       "    </tr>\n",
       "    <tr>\n",
       "      <th>2</th>\n",
       "      <td>1.353867</td>\n",
       "      <td>1.856863</td>\n",
       "      <td>1.126556</td>\n",
       "      <td>1.745486</td>\n",
       "      <td>1.485835</td>\n",
       "    </tr>\n",
       "    <tr>\n",
       "      <th>3</th>\n",
       "      <td>1.497563</td>\n",
       "      <td>1.564387</td>\n",
       "      <td>1.060358</td>\n",
       "      <td>1.893876</td>\n",
       "      <td>1.705030</td>\n",
       "    </tr>\n",
       "    <tr>\n",
       "      <th>4</th>\n",
       "      <td>1.635283</td>\n",
       "      <td>1.239262</td>\n",
       "      <td>1.556028</td>\n",
       "      <td>1.216992</td>\n",
       "      <td>1.791157</td>\n",
       "    </tr>\n",
       "  </tbody>\n",
       "</table>\n",
       "</div>"
      ],
      "text/plain": [
       "          a         b         c         d         e\n",
       "0  1.818370  1.247481  1.802545  1.473576  1.812560\n",
       "1  1.536296  1.220849  1.096129  1.373259  1.108820\n",
       "2  1.353867  1.856863  1.126556  1.745486  1.485835\n",
       "3  1.497563  1.564387  1.060358  1.893876  1.705030\n",
       "4  1.635283  1.239262  1.556028  1.216992  1.791157"
      ]
     },
     "execution_count": 30,
     "metadata": {},
     "output_type": "execute_result"
    }
   ],
   "source": [
    "# Creating a matrix of shape(20x5)\n",
    "arr = np.random.random((20, 5)) + 1\n",
    "\n",
    "# Defining the column names\n",
    "column_names = ['a', 'b', 'c', 'd', 'e']\n",
    "\n",
    "# Creating the dataframe\n",
    "df = pd.DataFrame(arr, columns=column_names)\n",
    "\n",
    "# Visualize\n",
    "df.head()"
   ]
  },
  {
   "cell_type": "code",
   "execution_count": 31,
   "id": "f36fa400",
   "metadata": {},
   "outputs": [
    {
     "name": "stdout",
     "output_type": "stream",
     "text": [
      "Column with highest std: c\n"
     ]
    }
   ],
   "source": [
    "# Column with highest std\n",
    "print(f\"Column with highest std: {df.columns[np.argmax(np.std(df, axis = 0))]}\")"
   ]
  },
  {
   "cell_type": "code",
   "execution_count": 32,
   "id": "88c25261",
   "metadata": {
    "scrolled": true
   },
   "outputs": [
    {
     "name": "stdout",
     "output_type": "stream",
     "text": [
      "row with the lowest mean: 2 (1 indexing)\n"
     ]
    }
   ],
   "source": [
    "# Row with the lowest mean\n",
    "print(f\"row with the lowest mean: {np.argmin(np.mean(df, axis = 1)) + 1} (1 indexing)\")"
   ]
  },
  {
   "cell_type": "markdown",
   "id": "d070487b",
   "metadata": {},
   "source": [
    "### Q11) Add a new column to the dataframe called “f” which is the sum of the columns “a”, “b”, “c”, “d”, “e”. Create another column called “g”. The value in the column “g” should be “LT8” if the value in the column “f” is less than 8 and “GT8” otherwise. Find the number of rows in the dataframe where the value in the column “g” is “LT8”. Find the standard deviation of the column “f” for the rows where the value in the column “g” is “LT8” and “GT8” respectively."
   ]
  },
  {
   "cell_type": "code",
   "execution_count": 33,
   "id": "3ffb3fb3",
   "metadata": {},
   "outputs": [],
   "source": [
    "# Creating the Fth column of the dataframe\n",
    "df['f'] = np.sum(df, axis=1)"
   ]
  },
  {
   "cell_type": "code",
   "execution_count": 34,
   "id": "a61f16a2",
   "metadata": {},
   "outputs": [
    {
     "data": {
      "text/html": [
       "<div>\n",
       "<style scoped>\n",
       "    .dataframe tbody tr th:only-of-type {\n",
       "        vertical-align: middle;\n",
       "    }\n",
       "\n",
       "    .dataframe tbody tr th {\n",
       "        vertical-align: top;\n",
       "    }\n",
       "\n",
       "    .dataframe thead th {\n",
       "        text-align: right;\n",
       "    }\n",
       "</style>\n",
       "<table border=\"1\" class=\"dataframe\">\n",
       "  <thead>\n",
       "    <tr style=\"text-align: right;\">\n",
       "      <th></th>\n",
       "      <th>a</th>\n",
       "      <th>b</th>\n",
       "      <th>c</th>\n",
       "      <th>d</th>\n",
       "      <th>e</th>\n",
       "      <th>f</th>\n",
       "    </tr>\n",
       "  </thead>\n",
       "  <tbody>\n",
       "    <tr>\n",
       "      <th>0</th>\n",
       "      <td>1.818370</td>\n",
       "      <td>1.247481</td>\n",
       "      <td>1.802545</td>\n",
       "      <td>1.473576</td>\n",
       "      <td>1.812560</td>\n",
       "      <td>8.154531</td>\n",
       "    </tr>\n",
       "    <tr>\n",
       "      <th>1</th>\n",
       "      <td>1.536296</td>\n",
       "      <td>1.220849</td>\n",
       "      <td>1.096129</td>\n",
       "      <td>1.373259</td>\n",
       "      <td>1.108820</td>\n",
       "      <td>6.335353</td>\n",
       "    </tr>\n",
       "    <tr>\n",
       "      <th>2</th>\n",
       "      <td>1.353867</td>\n",
       "      <td>1.856863</td>\n",
       "      <td>1.126556</td>\n",
       "      <td>1.745486</td>\n",
       "      <td>1.485835</td>\n",
       "      <td>7.568607</td>\n",
       "    </tr>\n",
       "    <tr>\n",
       "      <th>3</th>\n",
       "      <td>1.497563</td>\n",
       "      <td>1.564387</td>\n",
       "      <td>1.060358</td>\n",
       "      <td>1.893876</td>\n",
       "      <td>1.705030</td>\n",
       "      <td>7.721213</td>\n",
       "    </tr>\n",
       "    <tr>\n",
       "      <th>4</th>\n",
       "      <td>1.635283</td>\n",
       "      <td>1.239262</td>\n",
       "      <td>1.556028</td>\n",
       "      <td>1.216992</td>\n",
       "      <td>1.791157</td>\n",
       "      <td>7.438721</td>\n",
       "    </tr>\n",
       "  </tbody>\n",
       "</table>\n",
       "</div>"
      ],
      "text/plain": [
       "          a         b         c         d         e         f\n",
       "0  1.818370  1.247481  1.802545  1.473576  1.812560  8.154531\n",
       "1  1.536296  1.220849  1.096129  1.373259  1.108820  6.335353\n",
       "2  1.353867  1.856863  1.126556  1.745486  1.485835  7.568607\n",
       "3  1.497563  1.564387  1.060358  1.893876  1.705030  7.721213\n",
       "4  1.635283  1.239262  1.556028  1.216992  1.791157  7.438721"
      ]
     },
     "execution_count": 34,
     "metadata": {},
     "output_type": "execute_result"
    }
   ],
   "source": [
    "df.head()"
   ]
  },
  {
   "cell_type": "code",
   "execution_count": 35,
   "id": "7c50791f",
   "metadata": {},
   "outputs": [],
   "source": [
    "# Creating the Gth column of the dataframe\n",
    "df['g'] = np.where(df.f < 8, \"LT8\", \"GT8\")"
   ]
  },
  {
   "cell_type": "code",
   "execution_count": 36,
   "id": "afaeee53",
   "metadata": {},
   "outputs": [
    {
     "data": {
      "text/html": [
       "<div>\n",
       "<style scoped>\n",
       "    .dataframe tbody tr th:only-of-type {\n",
       "        vertical-align: middle;\n",
       "    }\n",
       "\n",
       "    .dataframe tbody tr th {\n",
       "        vertical-align: top;\n",
       "    }\n",
       "\n",
       "    .dataframe thead th {\n",
       "        text-align: right;\n",
       "    }\n",
       "</style>\n",
       "<table border=\"1\" class=\"dataframe\">\n",
       "  <thead>\n",
       "    <tr style=\"text-align: right;\">\n",
       "      <th></th>\n",
       "      <th>a</th>\n",
       "      <th>b</th>\n",
       "      <th>c</th>\n",
       "      <th>d</th>\n",
       "      <th>e</th>\n",
       "      <th>f</th>\n",
       "      <th>g</th>\n",
       "    </tr>\n",
       "  </thead>\n",
       "  <tbody>\n",
       "    <tr>\n",
       "      <th>0</th>\n",
       "      <td>1.818370</td>\n",
       "      <td>1.247481</td>\n",
       "      <td>1.802545</td>\n",
       "      <td>1.473576</td>\n",
       "      <td>1.812560</td>\n",
       "      <td>8.154531</td>\n",
       "      <td>GT8</td>\n",
       "    </tr>\n",
       "    <tr>\n",
       "      <th>1</th>\n",
       "      <td>1.536296</td>\n",
       "      <td>1.220849</td>\n",
       "      <td>1.096129</td>\n",
       "      <td>1.373259</td>\n",
       "      <td>1.108820</td>\n",
       "      <td>6.335353</td>\n",
       "      <td>LT8</td>\n",
       "    </tr>\n",
       "    <tr>\n",
       "      <th>2</th>\n",
       "      <td>1.353867</td>\n",
       "      <td>1.856863</td>\n",
       "      <td>1.126556</td>\n",
       "      <td>1.745486</td>\n",
       "      <td>1.485835</td>\n",
       "      <td>7.568607</td>\n",
       "      <td>LT8</td>\n",
       "    </tr>\n",
       "    <tr>\n",
       "      <th>3</th>\n",
       "      <td>1.497563</td>\n",
       "      <td>1.564387</td>\n",
       "      <td>1.060358</td>\n",
       "      <td>1.893876</td>\n",
       "      <td>1.705030</td>\n",
       "      <td>7.721213</td>\n",
       "      <td>LT8</td>\n",
       "    </tr>\n",
       "    <tr>\n",
       "      <th>4</th>\n",
       "      <td>1.635283</td>\n",
       "      <td>1.239262</td>\n",
       "      <td>1.556028</td>\n",
       "      <td>1.216992</td>\n",
       "      <td>1.791157</td>\n",
       "      <td>7.438721</td>\n",
       "      <td>LT8</td>\n",
       "    </tr>\n",
       "    <tr>\n",
       "      <th>5</th>\n",
       "      <td>1.239694</td>\n",
       "      <td>1.925369</td>\n",
       "      <td>1.532892</td>\n",
       "      <td>1.337223</td>\n",
       "      <td>1.216973</td>\n",
       "      <td>7.252151</td>\n",
       "      <td>LT8</td>\n",
       "    </tr>\n",
       "    <tr>\n",
       "      <th>6</th>\n",
       "      <td>1.390160</td>\n",
       "      <td>1.877331</td>\n",
       "      <td>1.366269</td>\n",
       "      <td>1.787526</td>\n",
       "      <td>1.987805</td>\n",
       "      <td>8.409090</td>\n",
       "      <td>GT8</td>\n",
       "    </tr>\n",
       "    <tr>\n",
       "      <th>7</th>\n",
       "      <td>1.335781</td>\n",
       "      <td>1.100802</td>\n",
       "      <td>1.085656</td>\n",
       "      <td>1.333016</td>\n",
       "      <td>1.727789</td>\n",
       "      <td>6.583044</td>\n",
       "      <td>LT8</td>\n",
       "    </tr>\n",
       "    <tr>\n",
       "      <th>8</th>\n",
       "      <td>1.803831</td>\n",
       "      <td>1.833637</td>\n",
       "      <td>1.664679</td>\n",
       "      <td>1.002978</td>\n",
       "      <td>1.772654</td>\n",
       "      <td>8.077779</td>\n",
       "      <td>GT8</td>\n",
       "    </tr>\n",
       "    <tr>\n",
       "      <th>9</th>\n",
       "      <td>1.533996</td>\n",
       "      <td>1.643822</td>\n",
       "      <td>1.470561</td>\n",
       "      <td>1.936426</td>\n",
       "      <td>1.724608</td>\n",
       "      <td>8.309413</td>\n",
       "      <td>GT8</td>\n",
       "    </tr>\n",
       "  </tbody>\n",
       "</table>\n",
       "</div>"
      ],
      "text/plain": [
       "          a         b         c         d         e         f    g\n",
       "0  1.818370  1.247481  1.802545  1.473576  1.812560  8.154531  GT8\n",
       "1  1.536296  1.220849  1.096129  1.373259  1.108820  6.335353  LT8\n",
       "2  1.353867  1.856863  1.126556  1.745486  1.485835  7.568607  LT8\n",
       "3  1.497563  1.564387  1.060358  1.893876  1.705030  7.721213  LT8\n",
       "4  1.635283  1.239262  1.556028  1.216992  1.791157  7.438721  LT8\n",
       "5  1.239694  1.925369  1.532892  1.337223  1.216973  7.252151  LT8\n",
       "6  1.390160  1.877331  1.366269  1.787526  1.987805  8.409090  GT8\n",
       "7  1.335781  1.100802  1.085656  1.333016  1.727789  6.583044  LT8\n",
       "8  1.803831  1.833637  1.664679  1.002978  1.772654  8.077779  GT8\n",
       "9  1.533996  1.643822  1.470561  1.936426  1.724608  8.309413  GT8"
      ]
     },
     "execution_count": 36,
     "metadata": {},
     "output_type": "execute_result"
    }
   ],
   "source": [
    "df.head(10)"
   ]
  },
  {
   "cell_type": "code",
   "execution_count": 37,
   "id": "0455e47f",
   "metadata": {},
   "outputs": [
    {
     "name": "stdout",
     "output_type": "stream",
     "text": [
      "14\n"
     ]
    }
   ],
   "source": [
    "# Number of rows where df['g'] = 'LT8'\n",
    "print(np.sum(df['g'] == 'LT8'))"
   ]
  },
  {
   "cell_type": "code",
   "execution_count": 38,
   "id": "41766126",
   "metadata": {},
   "outputs": [
    {
     "name": "stdout",
     "output_type": "stream",
     "text": [
      "For LT8 : 0.4869391148283817 || For GT8: 0.16106237206127594\n"
     ]
    }
   ],
   "source": [
    "print(f\"For LT8 : {np.std(df['f'][df['g'] == 'LT8'])} || For GT8: {np.std(df['f'][df['g'] == 'GT8'])}\")"
   ]
  },
  {
   "cell_type": "markdown",
   "id": "20f030d0",
   "metadata": {},
   "source": [
    "---\n",
    "### Q12) Write a small piece of code to explain broadcasting in numpy."
   ]
  },
  {
   "cell_type": "markdown",
   "id": "6e64d9a4",
   "metadata": {},
   "source": [
    "**Sol:**\n",
    "<br />\n",
    "*Step 1* : Pad the dimensions of the array with lower number of dimesion with ones.\n",
    "<br />\n",
    "*Step 2* : If the shape of an arrays in a given dimensions vary and shape of one of the array in that dimension is 1(else raises error) then stretch it to match with the other.\n",
    "*Step 3*: Perform the operation."
   ]
  },
  {
   "cell_type": "code",
   "execution_count": 39,
   "id": "187a17bf",
   "metadata": {},
   "outputs": [
    {
     "name": "stdout",
     "output_type": "stream",
     "text": [
      "A :\n",
      " [[8 9 1 1]\n",
      " [6 8 2 8]\n",
      " [8 3 4 4]\n",
      " [9 2 4 4]]\n",
      "\n",
      "A + 10 :\n",
      " [[18 19 11 11]\n",
      " [16 18 12 18]\n",
      " [18 13 14 14]\n",
      " [19 12 14 14]]\n",
      "\n",
      "A == 3 :\n",
      " [[False False False False]\n",
      " [False False False False]\n",
      " [False  True False False]\n",
      " [False False False False]]\n"
     ]
    }
   ],
   "source": [
    "# Examples\n",
    "A = np.random.randint(1, 10, (4,4))\n",
    "print(f'A :\\n {A}')\n",
    "print(f'\\nA + 10 :\\n {A + 10}')\n",
    "print(f'\\nA == 3 :\\n {A == 3}')"
   ]
  },
  {
   "cell_type": "code",
   "execution_count": 40,
   "id": "4984b5e2",
   "metadata": {},
   "outputs": [
    {
     "name": "stdout",
     "output_type": "stream",
     "text": [
      "B :\n",
      " [[[7 6 7 9 4 8 9 7 4 4]\n",
      "  [9 5 3 4 8 5 2 2 1 2]]]\n",
      "\n",
      "B.shape :\n",
      " (1, 2, 10)\n",
      "\n",
      "C :\n",
      " [3 9 4 4 4 7 2 2 9 6]\n",
      "\n",
      "C.shape :\n",
      " (10,)\n",
      "\n",
      "C + B :\n",
      " [[[10 15 11 13  8 15 11  9 13 10]\n",
      "  [12 14  7  8 12 12  4  4 10  8]]]\n"
     ]
    }
   ],
   "source": [
    "B = np.array([[[7, 6, 7, 9, 4, 8, 9, 7, 4, 4,],\n",
    "              [9, 5, 3, 4, 8, 5, 2, 2, 1, 2,]]])\n",
    "C = np.array([3, 9, 4, 4, 4, 7, 2, 2, 9, 6,])\n",
    "print(f'B :\\n {B}')\n",
    "print(f'\\nB.shape :\\n {B.shape}')\n",
    "print(f'\\nC :\\n {C}')\n",
    "print(f'\\nC.shape :\\n {C.shape}')\n",
    "print(f'\\nC + B :\\n {B + C}')"
   ]
  },
  {
   "cell_type": "markdown",
   "id": "baef11db",
   "metadata": {},
   "source": [
    "*Step 1:* \n",
    "~~~\n",
    "C.shape = (1, 1, 10)\n",
    "C = [[[3 9 4 4 4 7 2 2 9 6]]]\n",
    "~~~\n",
    "*Step 2:*\n",
    "~~~\n",
    "C.shape = (1, 2, 10)\n",
    "C = [[[3 9 4 4 4 7 2 2 9 6],\n",
    "      [3 9 4 4 4 7 2 2 9 6]]]\n",
    "~~~\n",
    "*Step 3:*\n",
    "~~~\n",
    "C + B = [[[10 15 11 13  8 15 11  9 13 10],\n",
    "          [12 14  7  8 12 12  4  4 10  8]]]\n",
    "~~~"
   ]
  },
  {
   "cell_type": "markdown",
   "id": "0d5037ec",
   "metadata": {},
   "source": [
    "---\n",
    "### Q13) Write a function to compute the argmin of a numpy array. The function should take a numpy array as input and return the index of the minimum element. You can use the np.argmin function to verify your solution."
   ]
  },
  {
   "cell_type": "code",
   "execution_count": 41,
   "id": "f2d4680d",
   "metadata": {},
   "outputs": [],
   "source": [
    "def dup_argmin(arr):\n",
    "    '''\n",
    "    dup_argmin(arr)\n",
    "    arr : Numpy array,\n",
    "    returns : the index of minimum value of the array \n",
    "    '''\n",
    "    temp = arr.flatten()\n",
    "    # Index of the minimum value\n",
    "    index = 0\n",
    "    # The minimum value\n",
    "    mn = temp[0]\n",
    "    for i in range(temp.shape[0]):\n",
    "        if ((temp[i] < mn)):\n",
    "            mn = temp[i]\n",
    "            index = i\n",
    "    return index\n",
    "        "
   ]
  },
  {
   "cell_type": "code",
   "execution_count": 42,
   "id": "8fbe74b2",
   "metadata": {},
   "outputs": [
    {
     "name": "stdout",
     "output_type": "stream",
     "text": [
      "a : \n",
      "[[[88 59 95]\n",
      "  [88  7 70]\n",
      "  [27 37 27]]\n",
      "\n",
      " [[35  8 30]\n",
      "  [78  2 14]\n",
      "  [95 93  6]]\n",
      "\n",
      " [[92 13 35]\n",
      "  [69 54 70]\n",
      "  [71 26 85]]]\n",
      "\n",
      "My Function : 13 || argmin : 13\n"
     ]
    }
   ],
   "source": [
    "a = np.random.randint(1, 100, (3,3,3))\n",
    "\n",
    "print(f\"a : \\n{a}\\n\")\n",
    "\n",
    "print(f\"My Function : {dup_argmin(a)} || argmin : {np.argmin(a)}\")"
   ]
  }
 ],
 "metadata": {
  "kernelspec": {
   "display_name": "Python 3 (ipykernel)",
   "language": "python",
   "name": "python3"
  },
  "language_info": {
   "codemirror_mode": {
    "name": "ipython",
    "version": 3
   },
   "file_extension": ".py",
   "mimetype": "text/x-python",
   "name": "python",
   "nbconvert_exporter": "python",
   "pygments_lexer": "ipython3",
   "version": "3.9.13"
  }
 },
 "nbformat": 4,
 "nbformat_minor": 5
}
